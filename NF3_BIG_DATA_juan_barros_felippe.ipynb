{
  "cells": [
    {
      "cell_type": "markdown",
      "metadata": {
        "id": "view-in-github",
        "colab_type": "text"
      },
      "source": [
        "<a href=\"https://colab.research.google.com/github/juanbfelippe/NF3-BIG-DATA-juanbarrosfelippe/blob/main/NF3_BIG_DATA_juan_barros_felippe.ipynb\" target=\"_parent\"><img src=\"https://colab.research.google.com/assets/colab-badge.svg\" alt=\"Open In Colab\"/></a>"
      ]
    },
    {
      "cell_type": "markdown",
      "source": [
        "1. Obtenha o dataset do endereço https://www.w3resource.com/python\u0002exercises/pandas/filter/world_alcohol.csv e realize as seguintes análises (2,5 pontos):"
      ],
      "metadata": {
        "id": "GWrsGnpgCr89"
      }
    },
    {
      "cell_type": "code",
      "source": [
        "import pandas as pd\n",
        "\n",
        "df = pd.read_csv(\"https://raw.githubusercontent.com/juanbfelippe/NF3-BIG-DATA-juanbarrosfelippe/main/world_alcohol.csv\",encoding ='latin-1',sep = ',')\n"
      ],
      "metadata": {
        "id": "Wnk9ESwoUvhv"
      },
      "execution_count": null,
      "outputs": []
    },
    {
      "cell_type": "code",
      "source": [
        "# a) Agrupe os dados por tipo de bebidas;\n",
        "\n",
        "grupo = df.groupby('Beverage Types').count()\n",
        "grupo"
      ],
      "metadata": {
        "id": "Om3DD8a0Uvoe"
      },
      "execution_count": null,
      "outputs": []
    },
    {
      "cell_type": "code",
      "source": [
        "# b) Agrupe os dados por Região e por Ano\n",
        "\n",
        "grupo_ra = df.groupby(['WHO region','Year']).count()\n",
        "grupo_ra"
      ],
      "metadata": {
        "id": "WtoI06zXUvvG"
      },
      "execution_count": null,
      "outputs": []
    },
    {
      "cell_type": "code",
      "source": [
        "# c) Seção de Contagens: Contar a ocorrência de Regiões, de Países e a soma da coluna de valores por Bebida.\n",
        "\n",
        "oco_regio = df['WHO region'].value_counts() \n",
        "\n",
        "oco_paises = df['Country'].value_counts() \n",
        "\n",
        "soma_bebidas = df.groupby('Beverage Types')['Display Value'].sum()  \n",
        "\n",
        "print('soma da coluna de valores por Bebida\\n',soma_bebidas)\n",
        "print('\\nocorrência de Regiões\\n',oco_regio)\n",
        "print('\\nocorrência de Países\\n',oco_paises)"
      ],
      "metadata": {
        "id": "6iUfw0ZiUv0u"
      },
      "execution_count": null,
      "outputs": []
    },
    {
      "cell_type": "code",
      "source": [
        "# d) Realize análises estatísticas da coluna dos valores: Média, Moda, Mediana, Estatística Descritiva e Gráfico de comparação dos valores agrupados por tipo de bebida.\n",
        "\n",
        "media = df['Display Value'].mean()\n",
        "moda  = df['Display Value'].mode()[0]\n",
        "mediana = df['Display Value'].median()\n",
        "descritiva_Es = df['Display Value'].describe()\n",
        "\n",
        "\n",
        "print('Média :',media)      #Média\n",
        "print('Moda :', moda)       #Moda\n",
        "print('mediana :',mediana)  #Mediana\n",
        "print('estatisticas descritivas:') #Estatística Descritiva\n",
        "descritiva_Es\n"
      ],
      "metadata": {
        "id": "vI2qvGGNUwAH"
      },
      "execution_count": null,
      "outputs": []
    },
    {
      "cell_type": "code",
      "source": [
        "# Gráfico de comparação dos valores agrupados por tipo de bebida\n",
        "import matplotlib.pyplot as plot\n",
        "\n",
        "soma_be = df.groupby('Beverage Types')['Display Value'].mean()\n",
        "\n",
        "soma_be.plot.bar(x='Beverage Types')\n",
        "plot.xlabel('Tipo de Bebida')\n",
        "plot.ylabel('Soma dos Valores')"
      ],
      "metadata": {
        "id": "ZsFtlqhVUwCm"
      },
      "execution_count": null,
      "outputs": []
    },
    {
      "cell_type": "code",
      "source": [
        "# e) Mostre resultados de acordo com alguns critérios:\n",
        "#    i. Mostrar a coluna de bebidas do ano de 1985.\n",
        "\n",
        "print('Bebidas do ano de 1985 :')\n",
        "df[df['Year'] == 1985]['Beverage Types']"
      ],
      "metadata": {
        "id": "CT-glRZTjy9K"
      },
      "execution_count": null,
      "outputs": []
    },
    {
      "cell_type": "code",
      "source": [
        "# ii. Mostrar a coluna de Região com valores acima de 4\n",
        "\n",
        "print('Região com valores acima de 4:')\n",
        "df[df['Display Value'] > 4]['WHO region']"
      ],
      "metadata": {
        "id": "QljF8q2AlINL"
      },
      "execution_count": null,
      "outputs": []
    },
    {
      "cell_type": "markdown",
      "source": [
        " 2. Seja o dataset chamado cursos-prouni.csv que se encontra no endereço Cursos e notas de corte do PROUNI 2018 - Datasets - Brasil.IO. Baixe o arquivo, armazene no seu github** e obtenha os dados a partir desse endereço do github e realize as seguintes análises (2,5 pontos):"
      ],
      "metadata": {
        "id": "E4zNl7YGoh6L"
      }
    },
    {
      "cell_type": "code",
      "source": [
        "import pandas as pd\n",
        "\n",
        "df = pd.read_csv('https://raw.githubusercontent.com/juanbfelippe/NF3-BIG-DATA-juanbarrosfelippe/main/cursos-prouni.csv',encoding ='latin-1',sep = ',')\n",
        "\n",
        "df = df.replace('TecnolÃ³gico', 'Tecnologico',regex = True)\n",
        "df = df.replace('DistÃ¢ncia', 'Distancia',regex = True)\n",
        "df = df.replace('SÃ£o','São',regex = True)\n",
        "df = df.replace('GestÃ£o','Gestão',regex = True)\n",
        "df = df.replace('UniversitÃ¡rio','Universitario',regex = True)\n",
        "df = df.replace('SÃO','SÃO',regex = True)\n",
        "df = df.replace('BarÃ£o','Barão',regex = True)\n",
        "df = df.replace('ServiÃ§o','Serviço',regex = True)\n",
        "df = df.replace('SANTARÃM - FÃ¡tima','SANTARÉM-Fátima',regex = True)\n",
        "df = df.replace('ComputaÃ§Ã£o','Computação',regex = True)\n",
        "df = df.replace('EducaÃ§Ã£o','Educação',regex = True)\n",
        "df = df.replace('FÃ­sica','Fisica',regex = True)\n",
        "df = df.replace('UniversitÃ¡ria','Universitaria',regex = True)\n"
      ],
      "metadata": {
        "id": "41wjublNolyr"
      },
      "execution_count": 73,
      "outputs": []
    },
    {
      "cell_type": "code",
      "source": [
        "# a) Efetuar a limpeza das colunas de notas: onde tiver NaN (Not a Number), substituir por 0,0.\n",
        "\n",
        "#df.fillna(0)"
        

       "df['nota_integral_ampla'] = df['nota_integral_ampla'].fillna(0)"
       "df['nota_integral_cotas'] = df['nota_integral_cotas'].fillna(0)"
       "df['nota_parcial_ampla'] = df['nota_parcial_ampla'].fillna(0)"
       "df['nota_parcial_ampla'] = df['nota_parcial_ampla'].fillna(0)"
      ],
      "metadata": {
        "id": "HZCZZ2dTz0TJ"
      },
      "execution_count": null,
      "outputs": []
    },
    {
      "cell_type": "code",
      "source": [
        "# b) Agrupe os dados pelo grau (Bacharelado, Licenciatura, etc).\n",
        "\n",
        "df['grau'].value_counts()"
      ],
      "metadata": {
        "id": "KKaljaTP0Qma"
      },
      "execution_count": null,
      "outputs": []
    },
    {
      "cell_type": "code",
      "source": [
        "# c) Agrupe os dados pelos cursos de Matemática, Medicina e Pedagogia.\n",
        "\n",
        "cursos = ['Matemática','Medicina','Pedagogia']\n",
        "\n",
        "df[df['curso_busca'].isin(cursos)]"
      ],
      "metadata": {
        "id": "E2UOJV1Xol8K"
      },
      "execution_count": null,
      "outputs": []
    },
    {
      "cell_type": "code",
      "source": [
        "# d) Agrupe os dados por Estado e obtenha a média de notas de corte por Estado.\n",
        "\n",
        "df.groupby('uf_busca')['nota_integral_ampla'].mean()"
      ],
      "metadata": {
        "id": "UFWGZ-F4omDj"
      },
      "execution_count": null,
      "outputs": []
    },
    {
      "cell_type": "code",
      "source": [
        "# e) Agrupe os dados pelos cursos Tecnológicos.\n",
        "\n",
        "df[df['grau'] == 'Tecnologico']"
      ],
      "metadata": {
        "id": "ZdrvO3Ifvdoa"
      },
      "execution_count": null,
      "outputs": []
    },
    {
      "cell_type": "code",
      "source": [
        "# f) Elimine a coluna “cidade_filtro” do dataframe.\n",
        "\n",
        "del df['cidade_filtro']"
      ],
      "metadata": {
        "id": "pt4Tzpe_omJK"
      },
      "execution_count": null,
      "outputs": []
    },
    {
      "cell_type": "code",
      "source": [
        "# g) Apresente a média das mensalidades dos cursos de Medicina.\n",
        "\n",
        "m_medicina = df[df['nome'] == 'Medicina']\n",
        "\n",
        "m_medicina['mensalidade'].mean()"
      ],
      "metadata": {
        "id": "5ZIyNfxaomOT"
      },
      "execution_count": null,
      "outputs": []
    },
    {
      "cell_type": "code",
      "source": [
        "# h) Média das notas de corte dos cursos de tempo integral.\n",
        "\n",
        "inte = df[df['turno'] == 'Integral']\n",
        "\n",
        "inte['nota_integral_ampla'].mean()"
      ],
      "metadata": {
        "id": "DLzY3pvWoj3c"
      },
      "execution_count": null,
      "outputs": []
    },
    {
      "cell_type": "code",
      "source": [
        "# i) Estatística Descritiva das Notas Integral Ampla dos cursos de Bacharelado.\n",
        "\n",
        "bacharelado = df[df['grau'] == 'Bacharelado']\n",
        "\n",
        "bacharelado['nota_integral_ampla'].describe()"
      ],
      "metadata": {
        "id": "0op87u8-DRxl"
      },
      "execution_count": null,
      "outputs": []
    },
    {
      "cell_type": "code",
      "source": [
        "# j) Gráfico comparativo entre o grau dos cursos (Bacharelado, Licenciatura, Tecnologia, etc) pelas Notas Integral de Cotas.\n",
        "import matplotlib.pyplot as plot\n",
        "\n",
        "grau = df.groupby('grau')['nota_integral_cotas'].mean()\n",
        "\n",
        "grau.plot.bar(x ='grau')\n",
        "plot.xlabel('Grau dos cursos')\n",
        "plot.ylabel('Soma dos Valores')"
      ],
      "metadata": {
        "id": "UgBDsTSyw3z6"
      },
      "execution_count": null,
      "outputs": []
    }
  ],
  "metadata": {
    "colab": {
      "provenance": [],
      "toc_visible": true,
      "include_colab_link": true
    },
    "kernelspec": {
      "display_name": "Python 3",
      "name": "python3"
    }
  },
  "nbformat": 4,
  "nbformat_minor": 0
}
